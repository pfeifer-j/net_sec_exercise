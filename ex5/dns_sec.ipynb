{
 "cells": [
  {
   "cell_type": "markdown",
   "metadata": {},
   "source": [
    "# Network Security — Exercise 5: Domain Name System Security & Network Firewalls\n",
    "\n",
    "**Noah Link, Jan Pfeifer, Julian Weske**  \n",
    "**Date:** 20.06.2024"
   ]
  },
  {
   "cell_type": "markdown",
   "metadata": {},
   "source": [
    "## Domain Name System Security (Time spent: xx h)\n",
    "\n",
    "### Investigating Legal Websites\n",
    "\n",
    "Initializing the project and dnsdbq worked just fine:\n",
    "```\n",
    "./dnsdbq -u circl -n www.heise.de\n",
    ";; record times: 2023-10-08 18:53:22 .. 2024-06-12 16:29:03 (~247d 21h 35m)\n",
    ";; count: 369\n",
    "193.99.144.85  A  www.heise.de\n",
    "\n",
    "... skipped ...\n",
    "\n",
    ";; record times: 2024-01-21 15:44:12 .. 2024-06-11 23:03:38 (~142d 7h 19m)\n",
    ";; count: 7\n",
    "www.heise.de  PTR  85.144.99.193.in-addr.arpa\n",
    "```"
   ]
  },
  {
   "cell_type": "markdown",
   "metadata": {},
   "source": [
    "### Passive DNS\n",
    "\n",
    "- **What is passive DNS?**  \n",
    "  Passive DNS is a method of collecting, storing, and analyzing DNS query and response data from recursive DNS servers, allowing for historical tracking of domain-to-IP mappings without actively querying DNS servers.\n",
    "\n",
    "- **How can investigations in cybercrime benefit from passive DNS analysis?**\n",
    "  - Identifying historical domain-IP mappings to uncover the infrastructure used by cybercriminals.\n",
    "  - Tracking changes in domain associations, which can reveal patterns of malicious activity and help in mapping out criminal networks.\n",
    "\n",
    "- **Name two factors that the quality of passive DNS analysis, i.e., the number of returned results, depends on.**\n",
    "  - The volume and diversity of DNS data sources contributing to the passive DNS database.\n",
    "  - The time span over which DNS data has been collected and stored."
   ]
  },
  {
   "cell_type": "markdown",
   "metadata": {},
   "source": [
    "## IT Security News"
   ]
  },
  {
   "cell_type": "code",
   "execution_count": 69,
   "metadata": {},
   "outputs": [],
   "source": [
    "import subprocess\n",
    "import re\n",
    "import socket\n",
    "\n",
    "def query_dnsdbq(query_type, query_value):\n",
    "    command = [\"./source_dnsdbq/dnsdbq\", \"-u\", \"circl\", f\"-{query_type}\", query_value]\n",
    "\n",
    "    try:\n",
    "        result = subprocess.run(command, capture_output=True, text=True, check=True)\n",
    "        output = result.stdout.strip().split('\\n')\n",
    "        return output\n",
    "    except subprocess.CalledProcessError as e:\n",
    "        print(f\"Error running dnsdbq: {e}\")\n",
    "        print(f\"Standard Error: {e.stderr}\")\n",
    "        return None\n",
    "\n",
    "def query_ptr_records(ip_address):\n",
    "    try:\n",
    "        fqdns = socket.gethostbyaddr(ip_address)[0]\n",
    "        return fqdns\n",
    "    except socket.herror as e:\n",
    "        if e.errno == socket.herror.ENOENT:\n",
    "            print(f\"No PTR record found for IP address {ip_address}\")\n",
    "        elif e.errno == socket.herror.EAI_NONAME:\n",
    "            print(f\"No hostname associated with IP address {ip_address}\")\n",
    "        else:\n",
    "            print(f\"Socket error occurred for IP address {ip_address}: {e}\")\n",
    "        return None\n",
    "    except UnicodeError as e:\n",
    "        print(f\"Unicode error occurred while decoding hostname for IP address {ip_address}: {e}\")\n",
    "        return None\n",
    "    except Exception as e:\n",
    "        print(f\"An unexpected error occurred for IP address {ip_address}: {e}\")\n",
    "        return None\n",
    "\n",
    "def query_aaaa_records(query_value):\n",
    "    command = [\"./source_dnsdbq/dnsdbq\", \"-u\", \"circl\", \"-r\", query_value]\n",
    "\n",
    "    try:\n",
    "        result = subprocess.run(command, capture_output=True, text=True, check=True)\n",
    "        ipv6_addresses = re.findall(\n",
    "            r\"\\b(?:[0-9a-fA-F]{1,4}:){7}[0-9a-fA-F]{1,4}\\b\",\n",
    "            result.stdout\n",
    "        )\n",
    "\n",
    "        return ipv6_addresses\n",
    "    except subprocess.CalledProcessError as e:\n",
    "        print(f\"Error running dnsdbq for AAAA records: {e}\")\n",
    "        print(f\"Standard Error: {e.stderr}\")\n",
    "        return None\n",
    "\n",
    "def get_ipv4_addresses(domain):\n",
    "    # Query for A records initially\n",
    "    a_records = query_dnsdbq(\"n\", domain)\n",
    "\n",
    "    if not a_records:\n",
    "        print(f\"No A records found for {domain}\")\n",
    "        return []\n",
    "\n",
    "    # Extract A records (IPv4 addresses)\n",
    "    ipv4_addresses = []\n",
    "    for record in a_records:\n",
    "        if re.match(r\"^\\d+\\.\\d+\\.\\d+\\.\\d+$\", record):\n",
    "            ipv4_addresses.append(record)\n",
    "\n",
    "    # Check if any CNAME records found and follow them\n",
    "    if not ipv4_addresses:\n",
    "        print(f\"Found CNAME records instead of A records for {domain}. Following CNAME chain.\")\n",
    "\n",
    "        # Find the most recent alias name (CNAME)\n",
    "        recent_cname = a_records[-1].strip()\n",
    "\n",
    "        # Query for A records of the most recent alias name\n",
    "        ipv4_addresses = query_dnsdbq(\"n\", recent_cname)\n",
    "\n",
    "    return ipv4_addresses\n",
    "\n",
    "def get_cname_chain(domain):\n",
    "    cname_chain = []\n",
    "    current_domain = domain\n",
    "\n",
    "    while True:\n",
    "        # Query CNAME records for current domain\n",
    "        cname_records = query_dnsdbq(\"c\", current_domain)\n",
    "        \n",
    "        if not cname_records:\n",
    "            print(f\"No CNAME records found for {current_domain}\")\n",
    "            break\n",
    "        \n",
    "        # Extract the most recent CNAME (last line in output)\n",
    "        most_recent_cname = cname_records[-1].strip()\n",
    "\n",
    "        # Add to chain and update current domain to follow next CNAME\n",
    "        cname_chain.append(most_recent_cname)\n",
    "        current_domain = most_recent_cname\n",
    "\n",
    "        # Check if the most recent CNAME is the final target (no more CNAMEs)\n",
    "        if len(cname_records) == 1:\n",
    "            break\n",
    "    \n",
    "    return cname_chain"
   ]
  },
  {
   "cell_type": "markdown",
   "metadata": {},
   "source": [
    "1. How many IPv4 addresses exist for this site? List all addresses (i.e., A records)\n",
    "you found:"
   ]
  },
  {
   "cell_type": "code",
   "execution_count": 70,
   "metadata": {},
   "outputs": [
    {
     "name": "stdout",
     "output_type": "stream",
     "text": [
      "Number of IPv4 addresses found for www.heise.de: 59\n",
      "IPv4 Addresses:\n",
      ";; record times: 2023-10-08 18:53:22 .. 2024-06-12 16:29:03 (~247d 21h 35m)\n",
      ";; count: 369\n",
      "193.99.144.85  A  www.heise.de\n",
      "\n",
      ";; record times: 2023-10-11 18:37:03 .. 2024-06-13 08:45:43 (~245d 14h 8m)\n",
      ";; count: 174\n",
      "2a02:2e0:3fe:1001:7777:772e:2:85  AAAA  www.heise.de\n",
      "\n",
      ";; record times: 2023-10-10 14:11:27 .. 2024-06-13 08:45:43 (~246d 18h 34m)\n",
      ";; count: 72\n",
      "www.heise.de  CNAME  www.telepolis.de\n",
      "\n",
      ";; record times: 2023-11-03 19:43:52 .. 2024-02-15 23:10:27 (~104d 3h 26m)\n",
      ";; count: 9\n",
      "www.heise.de  CNAME  karriere.heise-gruppe.de\n",
      "\n",
      ";; record times: 2024-01-30 19:29:54 .. 2024-05-30 06:17:47 (~120d 10h 47m)\n",
      ";; count: 3\n",
      "www.heise.de  CNAME  compaliate.heise.de\n",
      "\n",
      ";; record times: 2024-02-16 17:05:03 .. 2024-02-16 17:05:03 (1s)\n",
      ";; count: 1\n",
      "www.heise.de  CNAME  monocle.heise.de\n",
      "\n",
      ";; record times: 2024-04-09 08:06:38 .. 2024-04-09 08:06:38 (1s)\n",
      ";; count: 1\n",
      "www.heise.de  CNAME  www.heisegroup.de\n",
      "\n",
      ";; record times: 2023-10-09 00:36:15 .. 2024-06-12 16:29:03 (~247d 15h 52m)\n",
      ";; count: 253\n",
      "www.heise.de  CNAME  reichweite.heise.de\n",
      "\n",
      ";; record times: 2024-01-03 03:58:16 .. 2024-06-12 22:36:54 (~161d 18h 38m)\n",
      ";; count: 12\n",
      "tiktok-developers-site-verification=FHHUbiCIOtixTBCGm2NCq7EWqXVFDha9  TXT  www.heise.de\n",
      "\n",
      ";; record times: 2024-01-03 03:58:16 .. 2024-06-12 22:36:54 (~161d 18h 38m)\n",
      ";; count: 12\n",
      "tiktok-developers-site-verification=weIoKWwdQgrTvpnCHhaQYbSHVDYzRrPG  TXT  www.heise.de\n",
      "\n",
      ";; record times: 2024-01-03 03:58:16 .. 2024-06-12 22:36:54 (~161d 18h 38m)\n",
      ";; count: 12\n",
      "tiktok-developers-site-verification=4hG7PLWNR1XvEcOT4YiLagaIG0dISTp5  TXT  www.heise.de\n",
      "\n",
      ";; record times: 2024-01-03 03:58:16 .. 2024-06-12 22:36:54 (~161d 18h 38m)\n",
      ";; count: 12\n",
      "tiktok-developers-site-verification=XRVQfkPuANzTVYCOWuMGUoo3cuGojxoC  TXT  www.heise.de\n",
      "\n",
      ";; record times: 2024-01-03 03:58:16 .. 2024-06-12 22:36:54 (~161d 18h 38m)\n",
      ";; count: 12\n",
      "tiktok-developers-site-verification=ItHbW0BcRfQvyRg64ke5Hjyr8Kq0tNLw  TXT  www.heise.de\n",
      "\n",
      ";; record times: 2023-12-20 08:59:09 .. 2024-02-14 08:30:09 (~55d 23h 31m)\n",
      ";; count: 3\n",
      "www.heise.de  PTR  5.8.0.0.2.0.0.0.e.2.7.7.7.7.7.7.1.0.0.1.e.f.3.0.0.e.2.0.2.0.a.2.ip6.arpa\n",
      "\n",
      ";; record times: 2024-01-21 15:44:12 .. 2024-06-11 23:03:38 (~142d 7h 19m)\n",
      ";; count: 7\n",
      "www.heise.de  PTR  85.144.99.193.in-addr.arpa\n"
     ]
    }
   ],
   "source": [
    "# 1.1.2.1\n",
    "query_type = \"n\"\n",
    "query_value = \"www.heise.de\"\n",
    "ipv4_addresses = query_dnsdbq(query_type, query_value)\n",
    "\n",
    "if ipv4_addresses:\n",
    "    print(f\"Number of IPv4 addresses found for {query_value}: {len(ipv4_addresses)}\")\n",
    "    print(\"IPv4 Addresses:\")\n",
    "    for address in ipv4_addresses:\n",
    "        print(address)\n",
    "else:\n",
    "    print(\"No IPv4 addresses found or there was an error.\")"
   ]
  },
  {
   "cell_type": "markdown",
   "metadata": {},
   "source": [
    "2. Is this site using IPv6 as well? If yes, list all addresses (i.e., AAAA records) you\n",
    "found."
   ]
  },
  {
   "cell_type": "code",
   "execution_count": 71,
   "metadata": {},
   "outputs": [
    {
     "name": "stdout",
     "output_type": "stream",
     "text": [
      "\n",
      "Number of IPv6 addresses found for www.heise.de: 1\n",
      "IPv6 Addresses:\n",
      "2a02:2e0:3fe:1001:7777:772e:2:85\n"
     ]
    }
   ],
   "source": [
    "# 1.1.2.2\n",
    "ipv6_addresses = query_aaaa_records(query_value)\n",
    "\n",
    "if ipv6_addresses:\n",
    "    print(f\"\\nNumber of IPv6 addresses found for {query_value}: {len(ipv6_addresses)}\")\n",
    "    print(\"IPv6 Addresses:\")\n",
    "    for address in ipv6_addresses:\n",
    "        print(address)\n",
    "else:\n",
    "    print(\"No IPv6 addresses found or there was an error.\")"
   ]
  },
  {
   "cell_type": "markdown",
   "metadata": {},
   "source": [
    "3. Search for other Fully-Qualified Domain Names (FQDNs) that are also hosted on\n",
    "the first IPv4 address of www.heise.de."
   ]
  },
  {
   "cell_type": "code",
   "execution_count": 72,
   "metadata": {},
   "outputs": [
    {
     "name": "stdout",
     "output_type": "stream",
     "text": [
      "\n",
      "Finding other FQDNs hosted on the first IPv4 address (;; record times: 2023-10-08 18:53:22 .. 2024-06-12 16:29:03 (~247d 21h 35m)) of www.heise.de:\n",
      "Unicode error occurred while decoding hostname for IP address ;; record times: 2023-10-08 18:53:22 .. 2024-06-12 16:29:03 (~247d 21h 35m): encoding with 'idna' codec failed (UnicodeError: label empty or too long)\n",
      "No PTR record found for IP address ;; record times: 2023-10-08 18:53:22 .. 2024-06-12 16:29:03 (~247d 21h 35m)\n"
     ]
    }
   ],
   "source": [
    "# 1.1.2.3\n",
    "if ipv4_addresses:\n",
    "    first_ipv4_address = ipv4_addresses[0]\n",
    "    print(\n",
    "        f\"\\nFinding other FQDNs hosted on the first IPv4 address ({first_ipv4_address}) of {query_value}:\"\n",
    "    )\n",
    "    ptr_record = query_ptr_records(first_ipv4_address)\n",
    "    if ptr_record:\n",
    "        print(f\"\\nFQDN for IP address {first_ipv4_address}:\")\n",
    "        print(ptr_record)\n",
    "    else:\n",
    "        print(f\"No PTR record found for IP address {first_ipv4_address}\")"
   ]
  },
  {
   "cell_type": "markdown",
   "metadata": {},
   "source": [
    "4. List all FQDNs that share a common IPv6 address with www.heise.de."
   ]
  },
  {
   "cell_type": "code",
   "execution_count": 73,
   "metadata": {},
   "outputs": [
    {
     "name": "stdout",
     "output_type": "stream",
     "text": [
      "\n",
      "Finding other FQDNs that share a common IPv6 address with www.heise.de:\n",
      "\n",
      "IPv6 Address: 2a02:2e0:3fe:1001:7777:772e:2:85\n",
      "Associated FQDNs:\n",
      "www.heise.de\n",
      "\n",
      "Common FQDNs:\n",
      "www.heise.de\n"
     ]
    }
   ],
   "source": [
    "# 1.1.2.4\n",
    "if ipv6_addresses:\n",
    "    print(f\"\\nFinding other FQDNs that share a common IPv6 address with {query_value}:\")\n",
    "    common_fqdns = set()\n",
    "    for ipv6_address in ipv6_addresses:\n",
    "        associated_fqdns = query_ptr_records(ipv6_address)\n",
    "        if associated_fqdns:\n",
    "            common_fqdns.update(associated_fqdns.split())\n",
    "            print(f\"\\nIPv6 Address: {ipv6_address}\")\n",
    "            print(\"Associated FQDNs:\")\n",
    "            for fqdn in associated_fqdns.split():\n",
    "                print(fqdn)\n",
    "\n",
    "    if common_fqdns:\n",
    "        print(\"\\nCommon FQDNs:\")\n",
    "        for fqdn in common_fqdns:\n",
    "            print(fqdn)\n",
    "    else:\n",
    "        print(\"No common FQDNs found with associated IPv6 addresses.\")"
   ]
  },
  {
   "cell_type": "markdown",
   "metadata": {},
   "source": [
    "### University Website\n",
    "\n",
    "1. How many IPv4 addresses exist for this site? List all addresses (i.e., A records) you found."
   ]
  },
  {
   "cell_type": "code",
   "execution_count": 74,
   "metadata": {},
   "outputs": [
    {
     "name": "stdout",
     "output_type": "stream",
     "text": [
      "Found CNAME records instead of A records for www.uni-hamburg.de. Following CNAME chain.\n",
      "Number of IPv4 addresses found for www.uni-hamburg.de: 1\n",
      "IPv4 Addresses:\n",
      "\n"
     ]
    }
   ],
   "source": [
    "# 1.1.3.1\n",
    "query_value = \"www.uni-hamburg.de\"\n",
    "ipv4_addresses = get_ipv4_addresses(query_value)\n",
    "\n",
    "if ipv4_addresses:\n",
    "    print(f\"Number of IPv4 addresses found for {query_value}: {len(ipv4_addresses)}\")\n",
    "    print(\"IPv4 Addresses:\")\n",
    "    for address in ipv4_addresses:\n",
    "        print(address)\n",
    "else:\n",
    "    print(f\"No IPv4 addresses found for {query_value} or there was an error.\")"
   ]
  },
  {
   "cell_type": "markdown",
   "metadata": {},
   "source": [
    "2. Is this site using IPv6 as well? If yes, list all addresses (i.e., AAAA records) you found."
   ]
  },
  {
   "cell_type": "code",
   "execution_count": 75,
   "metadata": {},
   "outputs": [
    {
     "name": "stdout",
     "output_type": "stream",
     "text": [
      "No IPv6 addresses found for www.uni-hamburg.de or there was an error.\n"
     ]
    }
   ],
   "source": [
    "# 1.1.3.2\n",
    "ipv6_addresses = query_aaaa_records(query_value)\n",
    "\n",
    "if ipv6_addresses:\n",
    "    print(f\"\\nNumber of IPv6 addresses found for {query_value}: {len(ipv6_addresses)}\")\n",
    "    print(\"IPv6 Addresses:\")\n",
    "    for address in ipv6_addresses:\n",
    "        print(address)\n",
    "else:\n",
    "    print(f\"No IPv6 addresses found for {query_value} or there was an error.\")"
   ]
  },
  {
   "cell_type": "markdown",
   "metadata": {},
   "source": [
    "\n",
    "3. Search for other Fully-Qualified Domain Names (FQDNs) that are also hosted on the first IPv4 address of www.heise.de."
   ]
  },
  {
   "cell_type": "code",
   "execution_count": 76,
   "metadata": {},
   "outputs": [
    {
     "name": "stdout",
     "output_type": "stream",
     "text": [
      "\n",
      "Finding other FQDNs hosted on the first IPv4 address () of www.uni-hamburg.de:\n",
      "An unexpected error occurred for IP address : wildcard resolved to multiple address\n",
      "No PTR record found for IP address \n"
     ]
    }
   ],
   "source": [
    "# 1.1.3.3\n",
    "if ipv4_addresses:\n",
    "    first_ipv4_address = ipv4_addresses[0]\n",
    "    print(\n",
    "        f\"\\nFinding other FQDNs hosted on the first IPv4 address ({first_ipv4_address}) of {query_value}:\"\n",
    "    )\n",
    "    ptr_records = query_ptr_records(first_ipv4_address)\n",
    "    if ptr_records:\n",
    "        if isinstance(ptr_records, list):\n",
    "            for ptr_record in ptr_records:\n",
    "                print(f\"\\nFQDN for IP address {first_ipv4_address}:\")\n",
    "                print(ptr_record)\n",
    "        else:\n",
    "            print(f\"\\nFQDN for IP address {first_ipv4_address}:\")\n",
    "            print(ptr_records)\n",
    "    else:\n",
    "        print(f\"No PTR record found for IP address {first_ipv4_address}\")"
   ]
  },
  {
   "cell_type": "markdown",
   "metadata": {},
   "source": [
    "\n",
    "4. List all FQDNs that share a common IPv6 address with www.heise.de."
   ]
  },
  {
   "cell_type": "code",
   "execution_count": 77,
   "metadata": {},
   "outputs": [],
   "source": [
    "# 1.1.3.4\n",
    "if ipv6_addresses:\n",
    "    print(f\"\\nFinding other FQDNs that share a common IPv6 address with {query_value}:\")\n",
    "    common_fqdns = set()\n",
    "    for ipv6_address in ipv6_addresses:\n",
    "        associated_fqdns = query_ptr_records(ipv6_address)\n",
    "        if associated_fqdns:\n",
    "            common_fqdns.update(associated_fqdns.split())\n",
    "            print(f\"\\nIPv6 Address: {ipv6_address}\")\n",
    "            print(\"Associated FQDNs:\")\n",
    "            for fqdn in associated_fqdns.split():\n",
    "                print(fqdn)\n",
    "\n",
    "    if common_fqdns:\n",
    "        print(\"\\nCommon FQDNs:\")\n",
    "        for fqdn in common_fqdns:\n",
    "            print(fqdn)\n",
    "    else:\n",
    "        print(\"No common FQDNs found with associated IPv6 addresses.\")"
   ]
  },
  {
   "cell_type": "markdown",
   "metadata": {},
   "source": [
    "5. Find more domain names that do not directly resolve to the IP address of www.uni-hamburg.de but also indirectly via the respective CNAME."
   ]
  },
  {
   "cell_type": "code",
   "execution_count": 78,
   "metadata": {},
   "outputs": [
    {
     "name": "stdout",
     "output_type": "stream",
     "text": [
      "\n",
      "Finding more domain names indirectly resolving to www.uni-hamburg.de via CNAME chains:\n",
      "Error running dnsdbq: Command '['./source_dnsdbq/dnsdbq', '-u', 'circl', '-c', 'www.uni-hamburg.de']' returned non-zero exit status 1.\n",
      "Standard Error: error: there are no non-option arguments to this program\n",
      "\n",
      "try   dnsdbq -h   for a short description of program usage.\n",
      "\n",
      "No CNAME records found for www.uni-hamburg.de\n",
      "No CNAME chain found for www.uni-hamburg.de\n"
     ]
    }
   ],
   "source": [
    "# 1.1.3.5\n",
    "print(f\"\\nFinding more domain names indirectly resolving to {query_value} via CNAME chains:\")\n",
    "\n",
    "cname_chain = get_cname_chain(query_value)\n",
    "if cname_chain:\n",
    "    print(\"\\nCNAME Chain:\")\n",
    "    for cname in cname_chain:\n",
    "        print(cname)\n",
    "else:\n",
    "    print(f\"No CNAME chain found for {query_value}\")"
   ]
  },
  {
   "cell_type": "markdown",
   "metadata": {},
   "source": [
    "### Investigating Illegal Websites"
   ]
  },
  {
   "cell_type": "code",
   "execution_count": 82,
   "metadata": {},
   "outputs": [],
   "source": [
    "import socket\n",
    "\n",
    "def generate_ip_addresses(base_ip, subnet_mask):\n",
    "    ip_addresses = []\n",
    "    for i in range(subnet_mask + 1):\n",
    "        ip = base_ip + '.' + str(i)\n",
    "        ip_addresses.append(ip)\n",
    "    return ip_addresses\n",
    "\n",
    "def find_fqdns_in_subnet(base_ip, subnet_mask):\n",
    "    ip_addresses = generate_ip_addresses(base_ip, subnet_mask)\n",
    "    fqdns = {}\n",
    "    for ip in ip_addresses:\n",
    "        try:\n",
    "            host = socket.gethostbyaddr(ip)\n",
    "            fqdns[ip] = host[0]\n",
    "        except socket.herror:\n",
    "            fqdns[ip] = \"Unknown host\"\n",
    "        except socket.gaierror as e:\n",
    "            fqdns[ip] = f\"Failed to resolve: {str(e)}\"\n",
    "    return fqdns"
   ]
  },
  {
   "cell_type": "markdown",
   "metadata": {},
   "source": [
    "1. Search for FQDNs that are hosted within the address block 104.28.21.0/24. Describe your working steps."
   ]
  },
  {
   "cell_type": "code",
   "execution_count": 83,
   "metadata": {},
   "outputs": [
    {
     "name": "stdout",
     "output_type": "stream",
     "text": [
      "IP: 104.28.21.0 resolves to FQDN: Unknown host\n",
      "IP: 104.28.21.1 resolves to FQDN: Unknown host\n",
      "IP: 104.28.21.2 resolves to FQDN: Unknown host\n",
      "IP: 104.28.21.3 resolves to FQDN: Unknown host\n",
      "IP: 104.28.21.4 resolves to FQDN: Unknown host\n",
      "IP: 104.28.21.5 resolves to FQDN: Unknown host\n",
      "IP: 104.28.21.6 resolves to FQDN: Unknown host\n",
      "IP: 104.28.21.7 resolves to FQDN: Unknown host\n",
      "IP: 104.28.21.8 resolves to FQDN: Unknown host\n",
      "IP: 104.28.21.9 resolves to FQDN: Unknown host\n",
      "IP: 104.28.21.10 resolves to FQDN: Unknown host\n",
      "IP: 104.28.21.11 resolves to FQDN: Unknown host\n",
      "IP: 104.28.21.12 resolves to FQDN: Unknown host\n",
      "IP: 104.28.21.13 resolves to FQDN: Unknown host\n",
      "IP: 104.28.21.14 resolves to FQDN: Unknown host\n",
      "IP: 104.28.21.15 resolves to FQDN: Unknown host\n",
      "IP: 104.28.21.16 resolves to FQDN: Unknown host\n",
      "IP: 104.28.21.17 resolves to FQDN: Unknown host\n",
      "IP: 104.28.21.18 resolves to FQDN: Unknown host\n",
      "IP: 104.28.21.19 resolves to FQDN: Unknown host\n",
      "IP: 104.28.21.20 resolves to FQDN: Unknown host\n",
      "IP: 104.28.21.21 resolves to FQDN: Unknown host\n",
      "IP: 104.28.21.22 resolves to FQDN: Unknown host\n",
      "IP: 104.28.21.23 resolves to FQDN: Unknown host\n",
      "IP: 104.28.21.24 resolves to FQDN: Unknown host\n",
      "IP: 104.28.21.25 resolves to FQDN: Unknown host\n",
      "IP: 104.28.21.26 resolves to FQDN: Unknown host\n",
      "IP: 104.28.21.27 resolves to FQDN: Unknown host\n",
      "IP: 104.28.21.28 resolves to FQDN: Unknown host\n",
      "IP: 104.28.21.29 resolves to FQDN: Unknown host\n",
      "IP: 104.28.21.30 resolves to FQDN: Unknown host\n",
      "IP: 104.28.21.31 resolves to FQDN: Unknown host\n",
      "IP: 104.28.21.32 resolves to FQDN: Unknown host\n",
      "IP: 104.28.21.33 resolves to FQDN: Unknown host\n",
      "IP: 104.28.21.34 resolves to FQDN: Unknown host\n",
      "IP: 104.28.21.35 resolves to FQDN: Unknown host\n",
      "IP: 104.28.21.36 resolves to FQDN: Unknown host\n",
      "IP: 104.28.21.37 resolves to FQDN: Unknown host\n",
      "IP: 104.28.21.38 resolves to FQDN: Unknown host\n",
      "IP: 104.28.21.39 resolves to FQDN: Unknown host\n",
      "IP: 104.28.21.40 resolves to FQDN: Unknown host\n",
      "IP: 104.28.21.41 resolves to FQDN: Unknown host\n",
      "IP: 104.28.21.42 resolves to FQDN: Unknown host\n",
      "IP: 104.28.21.43 resolves to FQDN: Unknown host\n",
      "IP: 104.28.21.44 resolves to FQDN: Unknown host\n",
      "IP: 104.28.21.45 resolves to FQDN: Unknown host\n",
      "IP: 104.28.21.46 resolves to FQDN: Unknown host\n",
      "IP: 104.28.21.47 resolves to FQDN: Unknown host\n",
      "IP: 104.28.21.48 resolves to FQDN: Unknown host\n",
      "IP: 104.28.21.49 resolves to FQDN: Unknown host\n",
      "IP: 104.28.21.50 resolves to FQDN: Unknown host\n",
      "IP: 104.28.21.51 resolves to FQDN: Unknown host\n",
      "IP: 104.28.21.52 resolves to FQDN: Unknown host\n",
      "IP: 104.28.21.53 resolves to FQDN: Unknown host\n",
      "IP: 104.28.21.54 resolves to FQDN: Unknown host\n",
      "IP: 104.28.21.55 resolves to FQDN: Unknown host\n",
      "IP: 104.28.21.56 resolves to FQDN: Unknown host\n",
      "IP: 104.28.21.57 resolves to FQDN: Unknown host\n",
      "IP: 104.28.21.58 resolves to FQDN: Unknown host\n",
      "IP: 104.28.21.59 resolves to FQDN: Unknown host\n",
      "IP: 104.28.21.60 resolves to FQDN: Unknown host\n",
      "IP: 104.28.21.61 resolves to FQDN: Unknown host\n",
      "IP: 104.28.21.62 resolves to FQDN: Unknown host\n",
      "IP: 104.28.21.63 resolves to FQDN: Unknown host\n",
      "IP: 104.28.21.64 resolves to FQDN: Unknown host\n",
      "IP: 104.28.21.65 resolves to FQDN: Unknown host\n",
      "IP: 104.28.21.66 resolves to FQDN: Unknown host\n",
      "IP: 104.28.21.67 resolves to FQDN: Unknown host\n",
      "IP: 104.28.21.68 resolves to FQDN: Unknown host\n",
      "IP: 104.28.21.69 resolves to FQDN: Unknown host\n",
      "IP: 104.28.21.70 resolves to FQDN: Unknown host\n",
      "IP: 104.28.21.71 resolves to FQDN: Unknown host\n",
      "IP: 104.28.21.72 resolves to FQDN: Unknown host\n",
      "IP: 104.28.21.73 resolves to FQDN: Unknown host\n",
      "IP: 104.28.21.74 resolves to FQDN: Unknown host\n",
      "IP: 104.28.21.75 resolves to FQDN: Unknown host\n",
      "IP: 104.28.21.76 resolves to FQDN: Unknown host\n",
      "IP: 104.28.21.77 resolves to FQDN: Unknown host\n",
      "IP: 104.28.21.78 resolves to FQDN: Unknown host\n",
      "IP: 104.28.21.79 resolves to FQDN: Unknown host\n",
      "IP: 104.28.21.80 resolves to FQDN: Unknown host\n",
      "IP: 104.28.21.81 resolves to FQDN: Unknown host\n",
      "IP: 104.28.21.82 resolves to FQDN: Unknown host\n",
      "IP: 104.28.21.83 resolves to FQDN: Unknown host\n",
      "IP: 104.28.21.84 resolves to FQDN: Unknown host\n",
      "IP: 104.28.21.85 resolves to FQDN: Unknown host\n",
      "IP: 104.28.21.86 resolves to FQDN: Unknown host\n",
      "IP: 104.28.21.87 resolves to FQDN: Unknown host\n",
      "IP: 104.28.21.88 resolves to FQDN: Unknown host\n",
      "IP: 104.28.21.89 resolves to FQDN: Unknown host\n",
      "IP: 104.28.21.90 resolves to FQDN: Unknown host\n",
      "IP: 104.28.21.91 resolves to FQDN: Unknown host\n",
      "IP: 104.28.21.92 resolves to FQDN: Unknown host\n",
      "IP: 104.28.21.93 resolves to FQDN: Unknown host\n",
      "IP: 104.28.21.94 resolves to FQDN: Unknown host\n",
      "IP: 104.28.21.95 resolves to FQDN: Unknown host\n",
      "IP: 104.28.21.96 resolves to FQDN: Unknown host\n",
      "IP: 104.28.21.97 resolves to FQDN: Unknown host\n",
      "IP: 104.28.21.98 resolves to FQDN: Unknown host\n",
      "IP: 104.28.21.99 resolves to FQDN: Unknown host\n",
      "IP: 104.28.21.100 resolves to FQDN: Unknown host\n",
      "IP: 104.28.21.101 resolves to FQDN: Unknown host\n",
      "IP: 104.28.21.102 resolves to FQDN: Unknown host\n",
      "IP: 104.28.21.103 resolves to FQDN: Unknown host\n",
      "IP: 104.28.21.104 resolves to FQDN: Unknown host\n",
      "IP: 104.28.21.105 resolves to FQDN: Unknown host\n",
      "IP: 104.28.21.106 resolves to FQDN: Unknown host\n",
      "IP: 104.28.21.107 resolves to FQDN: Unknown host\n",
      "IP: 104.28.21.108 resolves to FQDN: Unknown host\n",
      "IP: 104.28.21.109 resolves to FQDN: Unknown host\n",
      "IP: 104.28.21.110 resolves to FQDN: Unknown host\n",
      "IP: 104.28.21.111 resolves to FQDN: Unknown host\n",
      "IP: 104.28.21.112 resolves to FQDN: Unknown host\n",
      "IP: 104.28.21.113 resolves to FQDN: Unknown host\n",
      "IP: 104.28.21.114 resolves to FQDN: Unknown host\n",
      "IP: 104.28.21.115 resolves to FQDN: Unknown host\n",
      "IP: 104.28.21.116 resolves to FQDN: Unknown host\n",
      "IP: 104.28.21.117 resolves to FQDN: Unknown host\n",
      "IP: 104.28.21.118 resolves to FQDN: Unknown host\n",
      "IP: 104.28.21.119 resolves to FQDN: Unknown host\n",
      "IP: 104.28.21.120 resolves to FQDN: Unknown host\n",
      "IP: 104.28.21.121 resolves to FQDN: Unknown host\n",
      "IP: 104.28.21.122 resolves to FQDN: Unknown host\n",
      "IP: 104.28.21.123 resolves to FQDN: Unknown host\n",
      "IP: 104.28.21.124 resolves to FQDN: Unknown host\n",
      "IP: 104.28.21.125 resolves to FQDN: Unknown host\n",
      "IP: 104.28.21.126 resolves to FQDN: Unknown host\n",
      "IP: 104.28.21.127 resolves to FQDN: Unknown host\n",
      "IP: 104.28.21.128 resolves to FQDN: Unknown host\n",
      "IP: 104.28.21.129 resolves to FQDN: Unknown host\n",
      "IP: 104.28.21.130 resolves to FQDN: Unknown host\n",
      "IP: 104.28.21.131 resolves to FQDN: Unknown host\n",
      "IP: 104.28.21.132 resolves to FQDN: Unknown host\n",
      "IP: 104.28.21.133 resolves to FQDN: Unknown host\n",
      "IP: 104.28.21.134 resolves to FQDN: Unknown host\n",
      "IP: 104.28.21.135 resolves to FQDN: Unknown host\n",
      "IP: 104.28.21.136 resolves to FQDN: Unknown host\n",
      "IP: 104.28.21.137 resolves to FQDN: Unknown host\n",
      "IP: 104.28.21.138 resolves to FQDN: Unknown host\n",
      "IP: 104.28.21.139 resolves to FQDN: Unknown host\n",
      "IP: 104.28.21.140 resolves to FQDN: Unknown host\n",
      "IP: 104.28.21.141 resolves to FQDN: Unknown host\n",
      "IP: 104.28.21.142 resolves to FQDN: Unknown host\n",
      "IP: 104.28.21.143 resolves to FQDN: Unknown host\n",
      "IP: 104.28.21.144 resolves to FQDN: Unknown host\n",
      "IP: 104.28.21.145 resolves to FQDN: Unknown host\n",
      "IP: 104.28.21.146 resolves to FQDN: Unknown host\n",
      "IP: 104.28.21.147 resolves to FQDN: Unknown host\n",
      "IP: 104.28.21.148 resolves to FQDN: Unknown host\n",
      "IP: 104.28.21.149 resolves to FQDN: Unknown host\n",
      "IP: 104.28.21.150 resolves to FQDN: Unknown host\n",
      "IP: 104.28.21.151 resolves to FQDN: Unknown host\n",
      "IP: 104.28.21.152 resolves to FQDN: Unknown host\n",
      "IP: 104.28.21.153 resolves to FQDN: Unknown host\n",
      "IP: 104.28.21.154 resolves to FQDN: Unknown host\n",
      "IP: 104.28.21.155 resolves to FQDN: Unknown host\n",
      "IP: 104.28.21.156 resolves to FQDN: Unknown host\n",
      "IP: 104.28.21.157 resolves to FQDN: Unknown host\n",
      "IP: 104.28.21.158 resolves to FQDN: Unknown host\n",
      "IP: 104.28.21.159 resolves to FQDN: Unknown host\n",
      "IP: 104.28.21.160 resolves to FQDN: Unknown host\n",
      "IP: 104.28.21.161 resolves to FQDN: Unknown host\n",
      "IP: 104.28.21.162 resolves to FQDN: Unknown host\n",
      "IP: 104.28.21.163 resolves to FQDN: Unknown host\n",
      "IP: 104.28.21.164 resolves to FQDN: Unknown host\n",
      "IP: 104.28.21.165 resolves to FQDN: Unknown host\n",
      "IP: 104.28.21.166 resolves to FQDN: Unknown host\n",
      "IP: 104.28.21.167 resolves to FQDN: Unknown host\n",
      "IP: 104.28.21.168 resolves to FQDN: Unknown host\n",
      "IP: 104.28.21.169 resolves to FQDN: Unknown host\n",
      "IP: 104.28.21.170 resolves to FQDN: Unknown host\n",
      "IP: 104.28.21.171 resolves to FQDN: Unknown host\n",
      "IP: 104.28.21.172 resolves to FQDN: Unknown host\n",
      "IP: 104.28.21.173 resolves to FQDN: Unknown host\n",
      "IP: 104.28.21.174 resolves to FQDN: Unknown host\n",
      "IP: 104.28.21.175 resolves to FQDN: Unknown host\n",
      "IP: 104.28.21.176 resolves to FQDN: Unknown host\n",
      "IP: 104.28.21.177 resolves to FQDN: Unknown host\n",
      "IP: 104.28.21.178 resolves to FQDN: Unknown host\n",
      "IP: 104.28.21.179 resolves to FQDN: Unknown host\n",
      "IP: 104.28.21.180 resolves to FQDN: Unknown host\n",
      "IP: 104.28.21.181 resolves to FQDN: Unknown host\n",
      "IP: 104.28.21.182 resolves to FQDN: Unknown host\n",
      "IP: 104.28.21.183 resolves to FQDN: Unknown host\n",
      "IP: 104.28.21.184 resolves to FQDN: Unknown host\n",
      "IP: 104.28.21.185 resolves to FQDN: Unknown host\n",
      "IP: 104.28.21.186 resolves to FQDN: Unknown host\n",
      "IP: 104.28.21.187 resolves to FQDN: Unknown host\n",
      "IP: 104.28.21.188 resolves to FQDN: Unknown host\n",
      "IP: 104.28.21.189 resolves to FQDN: Unknown host\n",
      "IP: 104.28.21.190 resolves to FQDN: Unknown host\n",
      "IP: 104.28.21.191 resolves to FQDN: Unknown host\n",
      "IP: 104.28.21.192 resolves to FQDN: Unknown host\n",
      "IP: 104.28.21.193 resolves to FQDN: Unknown host\n",
      "IP: 104.28.21.194 resolves to FQDN: Unknown host\n",
      "IP: 104.28.21.195 resolves to FQDN: Unknown host\n",
      "IP: 104.28.21.196 resolves to FQDN: Unknown host\n",
      "IP: 104.28.21.197 resolves to FQDN: Unknown host\n",
      "IP: 104.28.21.198 resolves to FQDN: Unknown host\n",
      "IP: 104.28.21.199 resolves to FQDN: Unknown host\n",
      "IP: 104.28.21.200 resolves to FQDN: Unknown host\n",
      "IP: 104.28.21.201 resolves to FQDN: Unknown host\n",
      "IP: 104.28.21.202 resolves to FQDN: Unknown host\n",
      "IP: 104.28.21.203 resolves to FQDN: Unknown host\n",
      "IP: 104.28.21.204 resolves to FQDN: Unknown host\n",
      "IP: 104.28.21.205 resolves to FQDN: Unknown host\n",
      "IP: 104.28.21.206 resolves to FQDN: Unknown host\n",
      "IP: 104.28.21.207 resolves to FQDN: Unknown host\n",
      "IP: 104.28.21.208 resolves to FQDN: Unknown host\n",
      "IP: 104.28.21.209 resolves to FQDN: Unknown host\n",
      "IP: 104.28.21.210 resolves to FQDN: Unknown host\n",
      "IP: 104.28.21.211 resolves to FQDN: Unknown host\n",
      "IP: 104.28.21.212 resolves to FQDN: Unknown host\n",
      "IP: 104.28.21.213 resolves to FQDN: Unknown host\n",
      "IP: 104.28.21.214 resolves to FQDN: Unknown host\n",
      "IP: 104.28.21.215 resolves to FQDN: Unknown host\n",
      "IP: 104.28.21.216 resolves to FQDN: Unknown host\n",
      "IP: 104.28.21.217 resolves to FQDN: Unknown host\n",
      "IP: 104.28.21.218 resolves to FQDN: Unknown host\n",
      "IP: 104.28.21.219 resolves to FQDN: Unknown host\n",
      "IP: 104.28.21.220 resolves to FQDN: Unknown host\n",
      "IP: 104.28.21.221 resolves to FQDN: Unknown host\n",
      "IP: 104.28.21.222 resolves to FQDN: Unknown host\n",
      "IP: 104.28.21.223 resolves to FQDN: Unknown host\n",
      "IP: 104.28.21.224 resolves to FQDN: Unknown host\n",
      "IP: 104.28.21.225 resolves to FQDN: Unknown host\n",
      "IP: 104.28.21.226 resolves to FQDN: Unknown host\n",
      "IP: 104.28.21.227 resolves to FQDN: Unknown host\n",
      "IP: 104.28.21.228 resolves to FQDN: Unknown host\n",
      "IP: 104.28.21.229 resolves to FQDN: Unknown host\n",
      "IP: 104.28.21.230 resolves to FQDN: Unknown host\n",
      "IP: 104.28.21.231 resolves to FQDN: Unknown host\n",
      "IP: 104.28.21.232 resolves to FQDN: Unknown host\n",
      "IP: 104.28.21.233 resolves to FQDN: Unknown host\n",
      "IP: 104.28.21.234 resolves to FQDN: Unknown host\n",
      "IP: 104.28.21.235 resolves to FQDN: Unknown host\n",
      "IP: 104.28.21.236 resolves to FQDN: Unknown host\n",
      "IP: 104.28.21.237 resolves to FQDN: Unknown host\n",
      "IP: 104.28.21.238 resolves to FQDN: Unknown host\n",
      "IP: 104.28.21.239 resolves to FQDN: Unknown host\n",
      "IP: 104.28.21.240 resolves to FQDN: Unknown host\n",
      "IP: 104.28.21.241 resolves to FQDN: Unknown host\n",
      "IP: 104.28.21.242 resolves to FQDN: Unknown host\n",
      "IP: 104.28.21.243 resolves to FQDN: Unknown host\n",
      "IP: 104.28.21.244 resolves to FQDN: Unknown host\n",
      "IP: 104.28.21.245 resolves to FQDN: Unknown host\n",
      "IP: 104.28.21.246 resolves to FQDN: Unknown host\n",
      "IP: 104.28.21.247 resolves to FQDN: Unknown host\n",
      "IP: 104.28.21.248 resolves to FQDN: Unknown host\n",
      "IP: 104.28.21.249 resolves to FQDN: Unknown host\n",
      "IP: 104.28.21.250 resolves to FQDN: Unknown host\n",
      "IP: 104.28.21.251 resolves to FQDN: Unknown host\n",
      "IP: 104.28.21.252 resolves to FQDN: Unknown host\n",
      "IP: 104.28.21.253 resolves to FQDN: Unknown host\n",
      "IP: 104.28.21.254 resolves to FQDN: Unknown host\n",
      "IP: 104.28.21.255 resolves to FQDN: Unknown host\n"
     ]
    }
   ],
   "source": [
    "# 1.2.1\n",
    "base_ip = '104.28.21'\n",
    "subnet_mask = 255\n",
    "\n",
    "fqdns = find_fqdns_in_subnet(base_ip, subnet_mask)\n",
    "\n",
    "for ip, fqdn in fqdns.items():\n",
    "    print(f\"IP: {ip} resolves to FQDN: {fqdn}\")\n"
   ]
  },
  {
   "cell_type": "markdown",
   "metadata": {},
   "source": [
    "2. Come up with at least four more appropriate search strings for filtering the FQDNs."
   ]
  },
  {
   "cell_type": "code",
   "execution_count": null,
   "metadata": {},
   "outputs": [],
   "source": []
  },
  {
   "cell_type": "markdown",
   "metadata": {},
   "source": [
    "3. Apply your search strings to the full list of FQDNs and list the filtered names."
   ]
  },
  {
   "cell_type": "code",
   "execution_count": null,
   "metadata": {},
   "outputs": [],
   "source": []
  },
  {
   "cell_type": "markdown",
   "metadata": {},
   "source": [
    "## DNS and Firewall Evasion (Time spent: xx h)\n",
    "\n"
   ]
  },
  {
   "cell_type": "markdown",
   "metadata": {},
   "source": [
    "### DNS Mechanisms and Evasion Techniques\n",
    "\n",
    "1. Why is DNS often used to bypass firewalls, and why is this a popular attack vector?\n",
    "\n",
    "DNS is commonly used to bypass firewalls because it operates over port 53, which is often allowed through firewalls for essential network functionality. This makes DNS traffic a convenient channel for attackers to tunnel malicious data, evade traditional firewall rules, and establish covert communication channels through techniques like DNS tunneling and domain generation algorithms (DGAs). DNS queries can be used to bypass content filters that rely on domain names, enabling access to blocked content or domains. The difficulty in inspecting DNS traffic thoroughly without specialized tools also contributes to its popularity as an attack vector. Organizations must implement robust DNS monitoring and filtering solutions to mitigate these risks effectively."
   ]
  },
  {
   "cell_type": "markdown",
   "metadata": {},
   "source": [
    "2. Explain the process of how a DNS tunnel works from the client request through to the response.\n",
    "\n",
    "A DNS tunnel works by encoding data into DNS queries sent by a client to a DNS server. The server extracts this data from the queries and sends back responses that contain the encoded information or acknowledgments. The client then decodes the data from the server's responses, enabling covert communication through DNS channels. This method bypasses firewalls and other security measures that may not inspect DNS traffic thoroughly for embedded content."
   ]
  },
  {
   "cell_type": "markdown",
   "metadata": {},
   "source": [
    "3. Describe a method to further cloak traffic via DNS tunneling. Provide a detailed description and analyze the overhead involved with concrete numbers and percentages.\n",
    "\n",
    "To cloak traffic via DNS tunneling and bypass firewalls and IDS systems:\n",
    "\n",
    "1. Payload Encryption: Encrypt data using AES-256 before embedding it into DNS queries to prevent interception.\n",
    "2. Traffic Obfuscation: Randomize query structure, timing, and data chunk order to evade pattern detection. Introduce random delays of 50-200 milliseconds between queries.\n",
    "3. Compression Techniques: Use compression to reduce query size and improve transmission efficiency, despite potential CPU overhead of 10-30%.\n",
    "4. Query Name Encoding: Encode data in DNS query names using base32 or base64 to utilize alphanumeric characters valid in DNS.\n",
    "\n",
    "Overhead Analysis:\n",
    "- Encryption: Adds a 14% overhead due to padding and metadata.\n",
    "- Compression: Introduces 10-30% CPU usage overhead and variable compression efficiency.\n",
    "- Obfuscation: Increases latency and network utilization by 10-20% with random delays.\n",
    "- Data Rate: Depending on conditions, achieves data transmission rates ranging from 240 to 3,000 bytes per second."
   ]
  },
  {
   "cell_type": "markdown",
   "metadata": {},
   "source": [
    "\n",
    "### DoH, DoT Implementation and Analysis\n",
    "\n",
    "1. Implement a subset of DNS over HTTPS (DoH) and DNS over TLS (DoT) to query an A record. Demonstrate the implementation by querying a public DNS server."
   ]
  },
  {
   "cell_type": "markdown",
   "metadata": {},
   "source": [
    "1.1 DNS over HTTPS Implementation:"
   ]
  },
  {
   "cell_type": "code",
   "execution_count": 17,
   "metadata": {},
   "outputs": [
    {
     "name": "stdout",
     "output_type": "stream",
     "text": [
      "example.com has A record 93.184.215.14\n"
     ]
    }
   ],
   "source": [
    "import requests\n",
    "\n",
    "def query_doh(domain):\n",
    "    doh_url = \"https://cloudflare-dns.com/dns-query\"\n",
    "    headers = {\"Accept\": \"application/dns-json\"}\n",
    "    params = {\"name\": domain, \"type\": \"A\"}\n",
    "\n",
    "    try:\n",
    "        response = requests.get(doh_url, headers=headers, params=params)\n",
    "        response.raise_for_status()\n",
    "        answer = response.json()\n",
    "        if \"Answer\" in answer:\n",
    "            return answer[\"Answer\"]\n",
    "        else:\n",
    "            print(\"No 'Answer' field in the response.\")\n",
    "            return None\n",
    "    except requests.exceptions.RequestException as e:\n",
    "        print(f\"An error occurred: {e}\")\n",
    "        return None\n",
    "\n",
    "domain = \"example.com\"\n",
    "result = query_doh(domain)\n",
    "if result:\n",
    "    for record in result:\n",
    "        print(f\"{record['name']} has A record {record['data']}\")\n",
    "else:\n",
    "    print(\"No A record found.\")\n"
   ]
  },
  {
   "cell_type": "markdown",
   "metadata": {},
   "source": [
    "1.2 DNS over TLS Implementation:"
   ]
  },
  {
   "cell_type": "code",
   "execution_count": 22,
   "metadata": {},
   "outputs": [
    {
     "name": "stdout",
     "output_type": "stream",
     "text": [
      "Sending query...\n",
      "Response received.\n",
      "Raw response: b''\n",
      "Failed to parse response: unpack requires a buffer of 12 bytes\n",
      "No A record found or an error occurred.\n"
     ]
    }
   ],
   "source": [
    "import socket\n",
    "import ssl\n",
    "import struct\n",
    "\n",
    "def build_query(domain):\n",
    "    # Header\n",
    "    transaction_id = b\"\\xaa\\xbb\"\n",
    "    flags = b\"\\x01\\x00\"\n",
    "    questions = b\"\\x00\\x01\"\n",
    "    answer_rrs = b\"\\x00\\x00\"\n",
    "    authority_rrs = b\"\\x00\\x00\"\n",
    "    additional_rrs = b\"\\x00\\x00\"\n",
    "    header = (\n",
    "        transaction_id + flags + questions + answer_rrs + authority_rrs + additional_rrs\n",
    "    )\n",
    "\n",
    "    # Question\n",
    "    qname = (\n",
    "        b\"\".join(\n",
    "            (\n",
    "                len(part).to_bytes(1, byteorder=\"big\") + part.encode()\n",
    "                for part in domain.split(\".\")\n",
    "            )\n",
    "        )\n",
    "        + b\"\\x00\"\n",
    "    )\n",
    "    qtype = b\"\\x00\\x01\"  # A record\n",
    "    qclass = b\"\\x00\\x01\"  # IN\n",
    "    question = qname + qtype + qclass\n",
    "\n",
    "    return header + question\n",
    "\n",
    "def parse_response(response, domain):\n",
    "    try:\n",
    "        # Unpack the header\n",
    "        transaction_id, flags, questions, answer_rrs, authority_rrs, additional_rrs = struct.unpack(\"!6H\", response[:12])\n",
    "        print(\"Header Info:\", transaction_id, flags, questions, answer_rrs, authority_rrs, additional_rrs)\n",
    "\n",
    "        answer_start = 12 + len(domain.split('.')) + 2 + 4  # Skipping the question part\n",
    "        answer = response[answer_start:]\n",
    "\n",
    "        answers = []\n",
    "        while answer:\n",
    "            name, type, class_, ttl, data_len = struct.unpack(\"!HHHIH\", answer[:12])\n",
    "            address = answer[12:12 + data_len]\n",
    "            answers.append(socket.inet_ntoa(address))\n",
    "            answer = answer[12 + data_len:]\n",
    "\n",
    "        return answers\n",
    "    except struct.error as e:\n",
    "        print(f\"Failed to parse response: {e}\")\n",
    "        return None\n",
    "\n",
    "def query_dot(domain):\n",
    "    server = \"1.1.1.1\"\n",
    "    port = 853\n",
    "    buffer_size = 4096  # Increased buffer size\n",
    "\n",
    "    query = build_query(domain)\n",
    "\n",
    "    context = ssl.create_default_context()\n",
    "    try:\n",
    "        with socket.create_connection((server, port)) as sock:\n",
    "            with context.wrap_socket(sock, server_hostname=server) as ssock:\n",
    "                print(\"Sending query...\")\n",
    "                ssock.sendall(query)\n",
    "                response = ssock.recv(buffer_size)\n",
    "                print(\"Response received.\")\n",
    "                print(\"Raw response:\", response)\n",
    "                return parse_response(response, domain)\n",
    "    except Exception as e:\n",
    "        print(f\"An error occurred: {e}\")\n",
    "        return None\n",
    "\n",
    "domain = \"example.com\"\n",
    "result = query_dot(domain)\n",
    "if result:\n",
    "    for record in result:\n",
    "        print(f\"{domain} has A record {record}\")\n",
    "else:\n",
    "    print(\"No A record found or an error occurred.\")\n"
   ]
  },
  {
   "cell_type": "markdown",
   "metadata": {},
   "source": [
    "2. What are the drawbacks of DoH and DoT, and how could these drawbacks be addressed?"
   ]
  },
  {
   "cell_type": "markdown",
   "metadata": {},
   "source": [
    "DNS over HTTPS (DoH) and DNS over TLS (DoT) introduce several drawbacks. They can face middlebox interference from network devices like firewalls, which may not properly handle or might block encrypted DNS traffic. Additionally, encrypting DNS queries and responses can increase latency due to the added computational overhead. There's also a risk of centralization with DoH, as it could consolidate DNS traffic to a few major providers, potentially reducing diversity in DNS resolution options. Operational challenges include the complexity of deploying and maintaining encrypted DNS services, especially for smaller operators.\n",
    "\n",
    "These drawbacks can be addressed by promoting standards adoption and improving compatibility with existing network infrastructure to mitigate middlebox interference. Continual optimization of encryption algorithms and implementation efficiencies can help reduce latency. Encouraging a diverse ecosystem of DNS resolver providers offering DoH and DoT services can mitigate centralization risks and foster competition. Providing education and resources to support the deployment and management of DoH and DoT can help address operational challenges and ensure broader adoption across different network environments."
   ]
  },
  {
   "cell_type": "code",
   "execution_count": null,
   "metadata": {},
   "outputs": [],
   "source": []
  }
 ],
 "metadata": {
  "kernelspec": {
   "display_name": "Python 3",
   "language": "python",
   "name": "python3"
  },
  "language_info": {
   "codemirror_mode": {
    "name": "ipython",
    "version": 3
   },
   "file_extension": ".py",
   "mimetype": "text/x-python",
   "name": "python",
   "nbconvert_exporter": "python",
   "pygments_lexer": "ipython3",
   "version": "3.10.14"
  }
 },
 "nbformat": 4,
 "nbformat_minor": 2
}
