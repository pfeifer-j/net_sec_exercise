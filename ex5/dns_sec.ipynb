{
 "cells": [
  {
   "cell_type": "markdown",
   "metadata": {},
   "source": [
    "# Network Security — Exercise 5: Domain Name System Security & Network Firewalls\n",
    "\n",
    "**Noah Link, Jan Pfeifer, Julian Weske**  \n",
    "**Date:** 20.06.2024"
   ]
  },
  {
   "cell_type": "markdown",
   "metadata": {},
   "source": [
    "## Domain Name System Security (Time spent: xx h)\n",
    "\n",
    "### Investigating Legal Websites\n",
    "\n",
    "Initializing the project and dnsdbq worked just fine:\n",
    "```\n",
    "./dnsdbq -u circl -n www.heise.de\n",
    ";; record times: 2023-10-08 18:53:22 .. 2024-06-12 16:29:03 (~247d 21h 35m)\n",
    ";; count: 369\n",
    "193.99.144.85  A  www.heise.de\n",
    "\n",
    "... skipped ...\n",
    "\n",
    ";; record times: 2024-01-21 15:44:12 .. 2024-06-11 23:03:38 (~142d 7h 19m)\n",
    ";; count: 7\n",
    "www.heise.de  PTR  85.144.99.193.in-addr.arpa\n",
    "```"
   ]
  },
  {
   "cell_type": "markdown",
   "metadata": {},
   "source": [
    "### Passive DNS\n",
    "\n",
    "- **What is passive DNS?**  \n",
    "  Passive DNS is a method of collecting, storing, and analyzing DNS query and response data from recursive DNS servers, allowing for historical tracking of domain-to-IP mappings without actively querying DNS servers.\n",
    "\n",
    "- **How can investigations in cybercrime benefit from passive DNS analysis?**\n",
    "  - Identifying historical domain-IP mappings to uncover the infrastructure used by cybercriminals.\n",
    "  - Tracking changes in domain associations, which can reveal patterns of malicious activity and help in mapping out criminal networks.\n",
    "\n",
    "- **Name two factors that the quality of passive DNS analysis, i.e., the number of returned results, depends on.**\n",
    "  - The volume and diversity of DNS data sources contributing to the passive DNS database.\n",
    "  - The time span over which DNS data has been collected and stored."
   ]
  },
  {
   "cell_type": "markdown",
   "metadata": {},
   "source": [
    "## IT Security News"
   ]
  },
  {
   "cell_type": "code",
   "execution_count": 4,
   "metadata": {},
   "outputs": [],
   "source": [
    "import subprocess\n",
    "import re\n",
    "\n",
    "\n",
    "def query_dnsdbq(query_type, query_value):\n",
    "    command = [\"./source_dnsdbq/dnsdbq\", \"-u\", \"circl\", f\"-{query_type}\", query_value]\n",
    "\n",
    "    try:\n",
    "        result = subprocess.run(command, capture_output=True, text=True, check=True)\n",
    "        ip_addresses = re.findall(r\"\\b(?:\\d{1,3}\\.){3}\\d{1,3}\\b\", result.stdout)\n",
    "\n",
    "        return ip_addresses\n",
    "    except subprocess.CalledProcessError as e:\n",
    "        print(f\"Error running dnsdbq: {e}\")\n",
    "        print(f\"Standard Error: {e.stderr}\")\n",
    "        return None\n",
    "\n",
    "\n",
    "def query_ptr_records(ip_address):\n",
    "    command = [\"./source_dnsdbq/dnsdbq\", \"-u\", \"circl\", \"-r\", ip_address]\n",
    "\n",
    "    try:\n",
    "        result = subprocess.run(command, capture_output=True, text=True, check=True)\n",
    "        fqdns = re.findall(r\"(\\S+)\\s+PTR\\s+\", result.stdout)\n",
    "\n",
    "        return fqdns\n",
    "    except subprocess.CalledProcessError as e:\n",
    "        print(f\"Error running dnsdbq for PTR records: {e}\")\n",
    "        print(f\"Standard Error: {e.stderr}\")\n",
    "        return None\n",
    "\n",
    "\n",
    "def query_aaaa_records(ip_address):\n",
    "    command = [\"./source_dnsdbq/dnsdbq\", \"-u\", \"circl\", \"-r\", ip_address]\n",
    "\n",
    "    try:\n",
    "        result = subprocess.run(command, capture_output=True, text=True, check=True)\n",
    "        ipv6_addresses = re.findall(\n",
    "            r\"\\b(?:[0-9a-fA-F]{1,4}:){7}[0-9a-fA-F]{1,4}\\b\", result.stdout\n",
    "        )\n",
    "\n",
    "        return ipv6_addresses\n",
    "    except subprocess.CalledProcessError as e:\n",
    "        print(f\"Error running dnsdbq for AAAA records: {e}\")\n",
    "        print(f\"Standard Error: {e.stderr}\")\n",
    "        return None"
   ]
  },
  {
   "cell_type": "markdown",
   "metadata": {},
   "source": [
    "1. How many IPv4 addresses exist for this site? List all addresses (i.e., A records)\n",
    "you found:"
   ]
  },
  {
   "cell_type": "code",
   "execution_count": 5,
   "metadata": {},
   "outputs": [
    {
     "name": "stdout",
     "output_type": "stream",
     "text": [
      "Number of IPv4 addresses found for www.heise.de: 7\n",
      "IPv4 Addresses:\n",
      "193.99.144.85\n",
      "5.8.0.0\n",
      "2.0.0.0\n",
      "2.7.7.7\n",
      "7.7.7.1\n",
      "2.0.2.0\n",
      "85.144.99.193\n"
     ]
    }
   ],
   "source": [
    "# 1.1.2.1\n",
    "query_type = \"n\"\n",
    "query_value = \"www.heise.de\"\n",
    "ipv4_addresses = query_dnsdbq(query_type, query_value)\n",
    "\n",
    "if ipv4_addresses:\n",
    "    print(f\"Number of IPv4 addresses found for {query_value}: {len(ipv4_addresses)}\")\n",
    "    print(\"IPv4 Addresses:\")\n",
    "    for address in ipv4_addresses:\n",
    "        print(address)\n",
    "else:\n",
    "    print(\"No IPv4 addresses found or there was an error.\")"
   ]
  },
  {
   "cell_type": "markdown",
   "metadata": {},
   "source": [
    "2. Is this site using IPv6 as well? If yes, list all addresses (i.e., AAAA records) you\n",
    "found."
   ]
  },
  {
   "cell_type": "code",
   "execution_count": 6,
   "metadata": {},
   "outputs": [
    {
     "name": "stdout",
     "output_type": "stream",
     "text": [
      "\n",
      "Number of IPv6 addresses found for www.heise.de: 1\n",
      "IPv6 Addresses:\n",
      "2a02:2e0:3fe:1001:7777:772e:2:85\n"
     ]
    }
   ],
   "source": [
    "# 1.1.2.2\n",
    "ipv6_addresses = query_aaaa_records(query_value)\n",
    "\n",
    "if ipv6_addresses:\n",
    "    print(f\"\\nNumber of IPv6 addresses found for {query_value}: {len(ipv6_addresses)}\")\n",
    "    print(\"IPv6 Addresses:\")\n",
    "    for address in ipv6_addresses:\n",
    "        print(address)\n",
    "else:\n",
    "    print(\"No IPv6 addresses found or there was an error.\")"
   ]
  },
  {
   "cell_type": "markdown",
   "metadata": {},
   "source": [
    "3. Search for other Fully-Qualified Domain Names (FQDNs) that are also hosted on\n",
    "the first IPv4 address of www.heise.de."
   ]
  },
  {
   "cell_type": "code",
   "execution_count": 9,
   "metadata": {},
   "outputs": [
    {
     "name": "stdout",
     "output_type": "stream",
     "text": [
      "\n",
      "Finding other FQDNs hosted on the first IPv4 address (193.99.144.85) of www.heise.de:\n",
      "No PTR record found for IP address 193.99.144.85\n"
     ]
    }
   ],
   "source": [
    "# 1.1.2.3\n",
    "if ipv4_addresses:\n",
    "    first_ipv4_address = ipv4_addresses[0]\n",
    "    print(\n",
    "        f\"\\nFinding other FQDNs hosted on the first IPv4 address ({first_ipv4_address}) of {query_value}:\"\n",
    "    )\n",
    "    ptr_record = query_ptr_records(first_ipv4_address)\n",
    "    if ptr_record:\n",
    "        print(f\"\\nFQDN for IP address {first_ipv4_address}:\")\n",
    "        print(ptr_record)\n",
    "    else:\n",
    "        print(f\"No PTR record found for IP address {first_ipv4_address}\")"
   ]
  },
  {
   "cell_type": "markdown",
   "metadata": {},
   "source": [
    "4. List all FQDNs that share a common IPv6 address with www.heise.de."
   ]
  },
  {
   "cell_type": "code",
   "execution_count": 10,
   "metadata": {},
   "outputs": [
    {
     "name": "stdout",
     "output_type": "stream",
     "text": [
      "\n",
      "Finding other FQDNs that share a common IPv6 address with www.heise.de:\n",
      "No common IPv6 addresses found with associated FQDNs.\n"
     ]
    }
   ],
   "source": [
    "# 1.1.2.4\n",
    "if ipv6_addresses:\n",
    "    print(f\"\\nFinding other FQDNs that share a common IPv6 address with {query_value}:\")\n",
    "    common_ipv6_addresses = set()\n",
    "    for ipv6_address in ipv6_addresses:\n",
    "        associated_fqdns = query_ptr_records(ipv6_address)\n",
    "        if associated_fqdns:\n",
    "            common_ipv6_addresses.add(ipv6_address)\n",
    "            print(f\"\\nIPv6 Address: {ipv6_address}\")\n",
    "            print(\"Associated FQDNs:\")\n",
    "            for fqdn in associated_fqdns:\n",
    "                print(fqdn)\n",
    "\n",
    "    if not common_ipv6_addresses:\n",
    "        print(\"No common IPv6 addresses found with associated FQDNs.\")"
   ]
  },
  {
   "cell_type": "markdown",
   "metadata": {},
   "source": [
    "### University Website\n",
    "\n",
    "1. How many IPv4 addresses exist for this site? List all addresses (i.e., A records) you found.\n"
   ]
  },
  {
   "cell_type": "code",
   "execution_count": null,
   "metadata": {},
   "outputs": [],
   "source": []
  },
  {
   "cell_type": "markdown",
   "metadata": {},
   "source": [
    "2. Is this site using IPv6 as well? If yes, list all addresses (i.e., AAAA records) you found."
   ]
  },
  {
   "cell_type": "code",
   "execution_count": null,
   "metadata": {},
   "outputs": [],
   "source": []
  },
  {
   "cell_type": "markdown",
   "metadata": {},
   "source": [
    "\n",
    "3. Search for other Fully-Qualified Domain Names (FQDNs) that are also hosted on the first IPv4 address of www.heise.de."
   ]
  },
  {
   "cell_type": "code",
   "execution_count": null,
   "metadata": {},
   "outputs": [],
   "source": []
  },
  {
   "cell_type": "markdown",
   "metadata": {},
   "source": [
    "\n",
    "4. List all FQDNs that share a common IPv6 address with www.heise.de."
   ]
  },
  {
   "cell_type": "code",
   "execution_count": null,
   "metadata": {},
   "outputs": [],
   "source": []
  },
  {
   "cell_type": "markdown",
   "metadata": {},
   "source": [
    "\n",
    "5. Find more domain names that do not directly resolve to the IP address of www.uni-hamburg.de but also indirectly via the respective CNAME."
   ]
  },
  {
   "cell_type": "code",
   "execution_count": null,
   "metadata": {},
   "outputs": [],
   "source": []
  },
  {
   "cell_type": "markdown",
   "metadata": {},
   "source": [
    "### Investigating Illegal Websites\n",
    "\n",
    "1. Search for FQDNs that are hosted within the address block 104.28.21.0/24. Describe your working steps.\n"
   ]
  },
  {
   "cell_type": "code",
   "execution_count": null,
   "metadata": {},
   "outputs": [],
   "source": []
  },
  {
   "cell_type": "markdown",
   "metadata": {},
   "source": [
    "2. Come up with at least four more appropriate search strings for filtering the FQDNs."
   ]
  },
  {
   "cell_type": "code",
   "execution_count": null,
   "metadata": {},
   "outputs": [],
   "source": []
  },
  {
   "cell_type": "markdown",
   "metadata": {},
   "source": [
    "3. Apply your search strings to the full list of FQDNs and list the filtered names."
   ]
  },
  {
   "cell_type": "code",
   "execution_count": null,
   "metadata": {},
   "outputs": [],
   "source": []
  },
  {
   "cell_type": "markdown",
   "metadata": {},
   "source": [
    "## DNS and Firewall Evasion (Time spent: xx h)\n",
    "\n"
   ]
  },
  {
   "cell_type": "markdown",
   "metadata": {},
   "source": [
    "### DNS Mechanisms and Evasion Techniques\n",
    "\n",
    "1. Why is DNS often used to bypass firewalls, and why is this a popular attack vector?"
   ]
  },
  {
   "cell_type": "code",
   "execution_count": null,
   "metadata": {},
   "outputs": [],
   "source": []
  },
  {
   "cell_type": "markdown",
   "metadata": {},
   "source": [
    "2. Explain the process of how a DNS tunnel works from the client request through to the response."
   ]
  },
  {
   "cell_type": "code",
   "execution_count": null,
   "metadata": {},
   "outputs": [],
   "source": []
  },
  {
   "cell_type": "markdown",
   "metadata": {},
   "source": [
    "3. Describe a method to further cloak traffic via DNS tunneling. Provide a detailed description and analyze the overhead involved with concrete numbers and percentages."
   ]
  },
  {
   "cell_type": "code",
   "execution_count": null,
   "metadata": {},
   "outputs": [],
   "source": []
  },
  {
   "cell_type": "markdown",
   "metadata": {},
   "source": [
    "\n",
    "### DoH, DoT Implementation and Analysis\n",
    "\n",
    "1. Implement a subset of DNS over HTTPS (DoH) and DNS over TLS (DoT) to query an A record. Demonstrate the implementation by querying a public DNS server."
   ]
  },
  {
   "cell_type": "code",
   "execution_count": null,
   "metadata": {},
   "outputs": [],
   "source": []
  },
  {
   "cell_type": "markdown",
   "metadata": {},
   "source": [
    "2. What are the drawbacks of DoH and DoT, and how could these drawbacks be addressed?"
   ]
  },
  {
   "cell_type": "code",
   "execution_count": null,
   "metadata": {},
   "outputs": [],
   "source": []
  }
 ],
 "metadata": {
  "kernelspec": {
   "display_name": "Python 3",
   "language": "python",
   "name": "python3"
  },
  "language_info": {
   "codemirror_mode": {
    "name": "ipython",
    "version": 3
   },
   "file_extension": ".py",
   "mimetype": "text/x-python",
   "name": "python",
   "nbconvert_exporter": "python",
   "pygments_lexer": "ipython3",
   "version": "3.10.12"
  }
 },
 "nbformat": 4,
 "nbformat_minor": 2
}
