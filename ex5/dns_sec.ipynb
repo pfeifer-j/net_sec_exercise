{
 "cells": [
  {
   "cell_type": "markdown",
   "metadata": {},
   "source": [
    "# Network Security — Exercise 5: Domain Name System Security & Network Firewalls\n",
    "\n",
    "**Noah Link, Jan Pfeifer, Julian Weske**  \n",
    "**Date:** 20.06.2024"
   ]
  },
  {
   "cell_type": "markdown",
   "metadata": {},
   "source": [
    "## Domain Name System Security (Time spent: xx h)\n",
    "\n",
    "### Investigating Legal Websites\n",
    "\n",
    "Initializing the project and dnsdbq worked just fine:\n",
    "```\n",
    "./dnsdbq -u circl -n www.heise.de\n",
    ";; record times: 2023-10-08 18:53:22 .. 2024-06-12 16:29:03 (~247d 21h 35m)\n",
    ";; count: 369\n",
    "193.99.144.85  A  www.heise.de\n",
    "\n",
    "... skipped ...\n",
    "\n",
    ";; record times: 2024-01-21 15:44:12 .. 2024-06-11 23:03:38 (~142d 7h 19m)\n",
    ";; count: 7\n",
    "www.heise.de  PTR  85.144.99.193.in-addr.arpa\n",
    "```"
   ]
  },
  {
   "cell_type": "markdown",
   "metadata": {},
   "source": [
    "### Passive DNS\n",
    "\n",
    "- **What is passive DNS?**  \n",
    "  Passive DNS is a method of collecting, storing, and analyzing DNS query and response data from recursive DNS servers. This allows for historical tracking of domain-to-IP mappings without actively querying DNS servers.\n",
    "\n",
    "- **How can investigations in cybercrime benefit from passive DNS analysis?**\n",
    "  - Identifying historical domain-IP mappings to uncover the infrastructure used.\n",
    "  - Tracking changes in domain associations, which can reveal patterns of malicious activity.\n",
    "  \n",
    "- **Name two factors that the quality of passive DNS analysis, i.e., the number of returned results, depends on.**\n",
    "  - The volume and diversity of DNS data sources contributing to the passive DNS database.\n",
    "  - The time span over which DNS data has been collected and stored."
   ]
  },
  {
   "cell_type": "markdown",
   "metadata": {},
   "source": [
    "## IT Security News\n",
    "Please use passive DNS to analyze the legal website www.heise.de according to the following questions:"
   ]
  },
  {
   "cell_type": "code",
   "execution_count": 1,
   "metadata": {},
   "outputs": [],
   "source": [
    "import pypdns\n",
    "auth_details = ('students.informatik.uni-hamburg.de', 'DWW/ymamruvwjRfwo8g8SFaCw1H8zYj5GlxBS8JVWgM=')\n",
    "client = pypdns.PyPDNS(basic_auth=auth_details)\n",
    "host = \"www.heise.de\"\n"
   ]
  },
  {
   "cell_type": "markdown",
   "metadata": {},
   "source": [
    "1. How many IPv4 addresses exist for this site? List all addresses (i.e., A records)\n",
    "you found:"
   ]
  },
  {
   "cell_type": "code",
   "execution_count": 2,
   "metadata": {},
   "outputs": [
    {
     "name": "stdout",
     "output_type": "stream",
     "text": [
      "IP addresses for  www.heise.de : \n",
      "5.8.0.0.2.0.0.0.e.2.7.7.7.7.7.7.1.0.0.1.e.f.3.0.0.e.2.0.2.0.a.2.ip6.arpa\n",
      "karriere.heise-gruppe.de\n",
      "monocle.heise.de\n",
      "www.heisegroup.de\n",
      "compaliate.heise.de\n",
      "85.144.99.193.in-addr.arpa\n",
      "reichweite.heise.de\n",
      "www.heise.de\n",
      "www.heise.de\n",
      "www.heise.de\n",
      "www.heise.de\n",
      "www.heise.de\n",
      "www.telepolis.de\n",
      "www.heise.de\n",
      "www.heise.de\n"
     ]
    }
   ],
   "source": [
    "# 1.1.2.1\n",
    "result = client.rfc_query(host)# , filter_rrtype='A') #todo \n",
    "ip_addresses = [record.rdata for record in result]\n",
    "\n",
    "print(\"IP addresses for \", host, \": \")\n",
    "for address in ip_addresses:\n",
    "    print(address)"
   ]
  },
  {
   "cell_type": "markdown",
   "metadata": {},
   "source": [
    "2. Is this site using IPv6 as well? If yes, list all addresses (i.e., AAAA records) you\n",
    "found."
   ]
  },
  {
   "cell_type": "code",
   "execution_count": 3,
   "metadata": {},
   "outputs": [
    {
     "name": "stdout",
     "output_type": "stream",
     "text": [
      "IP addresses for  www.heise.de : \n",
      "www.heise.de\n"
     ]
    }
   ],
   "source": [
    "# 1.1.2.2\n",
    "result = client.rfc_query(host, filter_rrtype='AAAA')\n",
    "ip_addresses = [record.rdata for record in result]\n",
    "\n",
    "print(\"IP addresses for \", host, \": \")\n",
    "for address in ip_addresses:\n",
    "    print(address)"
   ]
  },
  {
   "cell_type": "markdown",
   "metadata": {},
   "source": [
    "3. Search for other Fully-Qualified Domain Names (FQDNs) that are also hosted on\n",
    "the first IPv4 address of www.heise.de."
   ]
  },
  {
   "cell_type": "code",
   "execution_count": 4,
   "metadata": {},
   "outputs": [
    {
     "name": "stdout",
     "output_type": "stream",
     "text": [
      "FQDNs hosted on the same IP address (www.heise.de):\n",
      "www.heise.de\n",
      "tiktok-developers-site-verification=4hG7PLWNR1XvEcOT4YiLagaIG0dISTp5\n",
      "tiktok-developers-site-verification=weIoKWwdQgrTvpnCHhaQYbSHVDYzRrPG\n",
      "tiktok-developers-site-verification=ItHbW0BcRfQvyRg64ke5Hjyr8Kq0tNLw\n",
      "tiktok-developers-site-verification=XRVQfkPuANzTVYCOWuMGUoo3cuGojxoC\n",
      "2a02:2e0:3fe:1001:7777:772e:2:85\n",
      "tiktok-developers-site-verification=FHHUbiCIOtixTBCGm2NCq7EWqXVFDha9\n",
      "193.99.144.85\n"
     ]
    }
   ],
   "source": [
    "# 1.1.2.3\n",
    "results = client.rfc_query(host)\n",
    "\n",
    "fqdn_set = set()\n",
    "for result in results:\n",
    "    if result.rrname:\n",
    "        fqdn_set.add(result.rrname)\n",
    "\n",
    "print(f'FQDNs hosted on the same IP address ({host}):')\n",
    "for fqdn in fqdn_set:\n",
    "    print(fqdn)"
   ]
  },
  {
   "cell_type": "markdown",
   "metadata": {},
   "source": [
    "4. List all FQDNs that share a common IPv6 address with www.heise.de."
   ]
  },
  {
   "cell_type": "code",
   "execution_count": 5,
   "metadata": {},
   "outputs": [
    {
     "name": "stdout",
     "output_type": "stream",
     "text": [
      "FQDNs sharing IPv6 address www.heise.de:\n",
      "2a02:2e0:3fe:1001:7777:772e:2:85\n",
      "The FQDN of www.heise.de is: ('www.heise.de', [], ['193.99.144.85'])\n"
     ]
    }
   ],
   "source": [
    "# 1.1.2.4\n",
    "import socket\n",
    "result = client.rfc_query(host, filter_rrtype='AAAA')\n",
    "ipv6_addresses = {record.rdata for record in result}\n",
    "\n",
    "for ipv6_address in ipv6_addresses:\n",
    "    query_results = client.rfc_query(ipv6_address, filter_rrtype='AAAA')\n",
    "    \n",
    "    if result:\n",
    "        fqdns = {record.rrname for record in query_results}\n",
    "        fqdns.discard(host)\n",
    "        print(f\"FQDNs sharing IPv6 address {ipv6_address}:\")\n",
    "        for fqdn in fqdns:\n",
    "            print(fqdn)\n",
    "    else:\n",
    "        print(f\"No FQDNs found sharing IPv6 address {ipv6_address}\")\n",
    "\n",
    "    try:\n",
    "        fqdn = socket.gethostbyaddr(ipv6_address)\n",
    "        print(f\"The FQDN of {ipv6_address} is: {fqdn}\")\n",
    "    except socket.herror as e:\n",
    "        print(f\"Unable to find the FQDN for {ipv6_address}\")\n"
   ]
  },
  {
   "cell_type": "markdown",
   "metadata": {},
   "source": [
    "### University Website\n",
    "Please use passive DNS to analyze the legal website www.uni-hamburg.de.\n",
    "Hint: For this task, you might not be able to find a directly referenced A record, but CNAME records instead that you have to follow. In this case, continue with the most recent alias name\n",
    "\n",
    "1. How many IPv4 addresses exist for this site? List all addresses (i.e., A records) you found."
   ]
  },
  {
   "cell_type": "code",
   "execution_count": 6,
   "metadata": {},
   "outputs": [
    {
     "name": "stdout",
     "output_type": "stream",
     "text": [
      "IP addresses for  www.uni-hamburg.de : \n",
      "www.uni-hamburg.de\n"
     ]
    }
   ],
   "source": [
    "# 1.1.3.1\n",
    "host = \"www.uni-hamburg.de\"\n",
    "result = client.rfc_query(host)# , filter_rrtype='A')\n",
    "ip_addresses = [record.rdata for record in result]\n",
    "\n",
    "print(\"IP addresses for \", host, \": \")\n",
    "for address in ip_addresses:\n",
    "    print(address)"
   ]
  },
  {
   "cell_type": "markdown",
   "metadata": {},
   "source": [
    "2. Is this site using IPv6 as well? If yes, list all addresses (i.e., AAAA records) you found."
   ]
  },
  {
   "cell_type": "code",
   "execution_count": 7,
   "metadata": {},
   "outputs": [
    {
     "name": "stdout",
     "output_type": "stream",
     "text": [
      "IP addresses for  www.uni-hamburg.de : \n"
     ]
    }
   ],
   "source": [
    "# 1.1.3.2\n",
    "result = client.rfc_query(host, filter_rrtype='AAAA')\n",
    "ip_addresses = [record.rdata for record in result]\n",
    "\n",
    "print(\"IP addresses for \", host, \": \")\n",
    "for address in ip_addresses:\n",
    "    print(address)"
   ]
  },
  {
   "cell_type": "markdown",
   "metadata": {},
   "source": [
    "\n",
    "3. Search for other Fully-Qualified Domain Names (FQDNs) that are also hosted on the first IPv4 address of www.uni-hamburg.de."
   ]
  },
  {
   "cell_type": "code",
   "execution_count": 8,
   "metadata": {},
   "outputs": [
    {
     "name": "stdout",
     "output_type": "stream",
     "text": [
      "FQDNs hosted on the same IP address (www.heise.de):\n",
      "www.heise.de\n",
      "tiktok-developers-site-verification=4hG7PLWNR1XvEcOT4YiLagaIG0dISTp5\n",
      "tiktok-developers-site-verification=weIoKWwdQgrTvpnCHhaQYbSHVDYzRrPG\n",
      "tiktok-developers-site-verification=ItHbW0BcRfQvyRg64ke5Hjyr8Kq0tNLw\n",
      "tiktok-developers-site-verification=XRVQfkPuANzTVYCOWuMGUoo3cuGojxoC\n",
      "2a02:2e0:3fe:1001:7777:772e:2:85\n",
      "tiktok-developers-site-verification=FHHUbiCIOtixTBCGm2NCq7EWqXVFDha9\n",
      "193.99.144.85\n"
     ]
    }
   ],
   "source": [
    "# 1.1.3.3\n",
    "import pypdns\n",
    "auth_details = ('students.informatik.uni-hamburg.de', 'DWW/ymamruvwjRfwo8g8SFaCw1H8zYj5GlxBS8JVWgM=')\n",
    "client = pypdns.PyPDNS(basic_auth=auth_details)\n",
    "host = \"www.heise.de\"\n",
    "results = client.rfc_query(host)\n",
    "\n",
    "fqdn_set = set()\n",
    "for result in results:\n",
    "    if result.rrname:\n",
    "        fqdn_set.add(result.rrname)\n",
    "\n",
    "print(f'FQDNs hosted on the same IP address ({host}):')\n",
    "for fqdn in fqdn_set:\n",
    "    print(fqdn)"
   ]
  },
  {
   "cell_type": "markdown",
   "metadata": {},
   "source": [
    "\n",
    "4. List all FQDNs that share a common IPv6 address with www.uni-hamburg.de."
   ]
  },
  {
   "cell_type": "code",
   "execution_count": 9,
   "metadata": {},
   "outputs": [],
   "source": [
    "# 1.1.3.4\n",
    "# Todo sollte eigentlich funktionieren aber ipv6_addresses_uni ist leer\n",
    "host = \"www.uni-hamburg.de\"\n",
    "\n",
    "import socket\n",
    "result = client.rfc_query(host, filter_rrtype='AAAA')\n",
    "ipv6_addresses = {record.rdata for record in result}\n",
    "\n",
    "for ipv6_address in ipv6_addresses:\n",
    "    query_results = client.rfc_query(ipv6_address, filter_rrtype='AAAA')\n",
    "    \n",
    "    if result:\n",
    "        fqdns = {record.rrname for record in query_results}\n",
    "        fqdns.discard(host)\n",
    "        print(f\"FQDNs sharing IPv6 address {ipv6_address}:\")\n",
    "        for fqdn in fqdns:\n",
    "            print(fqdn)\n",
    "    else:\n",
    "        print(f\"No FQDNs found sharing IPv6 address {ipv6_address}\")\n",
    "\n",
    "    try:\n",
    "        fqdn = socket.gethostbyaddr(ipv6_address)\n",
    "        print(f\"The FQDN of {ipv6_address} is: {fqdn}\")\n",
    "    except socket.herror as e:\n",
    "        print(f\"Unable to find the FQDN for {ipv6_address}\")"
   ]
  },
  {
   "cell_type": "markdown",
   "metadata": {},
   "source": [
    "5. Find more domain names that do not directly resolve to the IP address of www.uni-hamburg.de but also indirectly via the respective CNAME."
   ]
  },
  {
   "cell_type": "code",
   "execution_count": 14,
   "metadata": {},
   "outputs": [
    {
     "name": "stdout",
     "output_type": "stream",
     "text": [
      "www.uni-hamburg.de CNAME -> www-fiona.rrz.uni-hamburg.de\n",
      "No CNAME records found for www-fiona.rrz.uni-hamburg.de\n"
     ]
    }
   ],
   "source": [
    "# 1.1.3.5\n",
    "# todo: check if correct. der kernel crashed hier ab und zu :c\n",
    "import dns.resolver\n",
    "\n",
    "try:\n",
    "    cname_records = dns.resolver.resolve(host, 'CNAME')\n",
    "    for record in cname_records:\n",
    "        alias = record.target.to_text().rstrip('.')\n",
    "        print(f\"{host} CNAME -> {alias}\")\n",
    "        while True:\n",
    "            try:\n",
    "                cname_records = dns.resolver.resolve(alias, 'CNAME')\n",
    "                for record in cname_records:\n",
    "                    alias = record.target.to_text().rstrip('.')\n",
    "                    print(f\"{alias} CNAME -> {alias}\")\n",
    "                aaaa_records = dns.resolver.resolve(alias, 'AAAA')\n",
    "                if aaaa_records:\n",
    "                    ipv6_addresses = {record.to_text() for record in aaaa_records}\n",
    "                    print(f\"{alias} AAAA -> {ipv6_addresses}\")\n",
    "                else:\n",
    "                    print(f\"No AAAA records found for {alias}\")\n",
    "\n",
    "                break \n",
    "            except dns.resolver.NoAnswer:\n",
    "                print(f\"No CNAME records found for {alias}\")\n",
    "                break  \n",
    "except dns.resolver.NoAnswer:\n",
    "    print(f\"No CNAME records found for {host}\")\n",
    "except dns.resolver.NXDOMAIN:\n",
    "    print(f\"Domain {host} does not exist\")"
   ]
  },
  {
   "cell_type": "markdown",
   "metadata": {},
   "source": [
    "### Investigating Illegal Websites\n",
    "Please use passive DNS to analyze the illegal streaming website kinox.to.\n",
    "Hint: This website may not exist anymore, so you can also investigate other illegal websites. You presume that more streaming websites are hosted within the same address block 104.28.21.0/24."
   ]
  },
  {
   "cell_type": "code",
   "execution_count": 10,
   "metadata": {},
   "outputs": [
    {
     "data": {
      "text/plain": [
       "'\\ndef generate_ip_addresses(base_ip, subnet_mask):\\n    ip_addresses = []\\n    for i in range(subnet_mask + 1):\\n        ip = base_ip + \\'.\\' + str(i)\\n        ip_addresses.append(ip)\\n    return ip_addresses\\n\\ndef find_fqdns_in_subnet(base_ip, subnet_mask):\\n    ip_addresses = generate_ip_addresses(base_ip, subnet_mask)\\n    fqdns = {}\\n    for ip in ip_addresses:\\n        try:\\n            host = socket.gethostbyaddr(ip)\\n            fqdns[ip] = host[0]\\n        except socket.herror:\\n            fqdns[ip] = \"Unknown host\"\\n        except socket.gaierror as e:\\n            fqdns[ip] = f\"Failed to resolve: {str(e)}\"\\n    return fqdns\\n'"
      ]
     },
     "execution_count": 10,
     "metadata": {},
     "output_type": "execute_result"
    }
   ],
   "source": [
    "# todo check if correct\n",
    "'''\n",
    "def generate_ip_addresses(base_ip, subnet_mask):\n",
    "    ip_addresses = []\n",
    "    for i in range(subnet_mask + 1):\n",
    "        ip = base_ip + '.' + str(i)\n",
    "        ip_addresses.append(ip)\n",
    "    return ip_addresses\n",
    "\n",
    "def find_fqdns_in_subnet(base_ip, subnet_mask):\n",
    "    ip_addresses = generate_ip_addresses(base_ip, subnet_mask)\n",
    "    fqdns = {}\n",
    "    for ip in ip_addresses:\n",
    "        try:\n",
    "            host = socket.gethostbyaddr(ip)\n",
    "            fqdns[ip] = host[0]\n",
    "        except socket.herror:\n",
    "            fqdns[ip] = \"Unknown host\"\n",
    "        except socket.gaierror as e:\n",
    "            fqdns[ip] = f\"Failed to resolve: {str(e)}\"\n",
    "    return fqdns\n",
    "'''\n"
   ]
  },
  {
   "cell_type": "markdown",
   "metadata": {},
   "source": [
    "1. Search for FQDNs that are hosted within the address block 104.28.21.0/24. Describe your working steps."
   ]
  },
  {
   "cell_type": "code",
   "execution_count": 11,
   "metadata": {},
   "outputs": [],
   "source": [
    "# 1.2.1\n",
    "# todo\n",
    "base_ip = '104.28.21'\n",
    "subnet_mask = 255\n",
    "\n",
    "# fqdns = find_fqdns_in_subnet(base_ip, subnet_mask)\n",
    "\n",
    "# for ip, fqdn in fqdns.items():\n",
    "#      print(f\"IP: {ip} resolves to FQDN: {fqdn}\")\n"
   ]
  },
  {
   "cell_type": "markdown",
   "metadata": {},
   "source": [
    "2. Come up with at least four more appropriate search strings for filtering the FQDNs."
   ]
  },
  {
   "cell_type": "code",
   "execution_count": null,
   "metadata": {},
   "outputs": [],
   "source": [
    "# todo"
   ]
  },
  {
   "cell_type": "markdown",
   "metadata": {},
   "source": [
    "3. Apply your search strings to the full list of FQDNs and list the filtered names."
   ]
  },
  {
   "cell_type": "code",
   "execution_count": null,
   "metadata": {},
   "outputs": [],
   "source": [
    "# todo"
   ]
  },
  {
   "cell_type": "markdown",
   "metadata": {},
   "source": [
    "## DNS and Firewall Evasion (Time spent: xx h)\n",
    "\n"
   ]
  },
  {
   "cell_type": "markdown",
   "metadata": {},
   "source": [
    "### DNS Mechanisms and Evasion Techniques\n",
    "\n",
    "1. Why is DNS often used to bypass firewalls, and why is this a popular attack vector?\n",
    "\n",
    "DNS is can be used to bypass firewalls because it operates over port 53, which is often allowed through firewalls for essential network functionality. This makes DNS traffic a convenient channel for attackers to tunnel malicious data, evade traditional firewall rules. The difficulty in inspecting DNS traffic thoroughly without specialized tools also contributes to its popularity as an attack vector. Robust DNS monitoring and filtering solutions are necessary to mitigate these risks."
   ]
  },
  {
   "cell_type": "markdown",
   "metadata": {},
   "source": [
    "2. Explain the process of how a DNS tunnel works from the client request through to the response.\n",
    "\n",
    "A DNS tunnel works by encoding data into DNS queries sent by a client to a DNS server. The server extracts this data from the queries and sends back responses that contain the encoded information or acknowledgments. The client then decodes the data from the server's responses, enabling covert communication through DNS channels, therby bypassing security measures."
   ]
  },
  {
   "cell_type": "markdown",
   "metadata": {},
   "source": [
    "3. Describe a method to further cloak traffic via DNS tunneling. Provide a detailed description and analyze the overhead involved with concrete numbers and percentages.\n",
    "\n",
    "    1. Payload Encryption: Encrypt data using AES-256 before embedding it into DNS queries to prevent interception. An attacker should be able to exchange keys in advance. This would add computational effort.\n",
    "    2. Randomize query structure, timing, and data chunk order to evade pattern detection. Introduce random delays of 50-200 milliseconds between queries. This increases latency and network utilization with random delays."
   ]
  },
  {
   "cell_type": "markdown",
   "metadata": {},
   "source": [
    "\n",
    "### DoH, DoT Implementation and Analysis\n",
    "\n",
    "1. Implement a subset of DNS over HTTPS (DoH) and DNS over TLS (DoT) to query an A record. Demonstrate the implementation by querying a public DNS server."
   ]
  },
  {
   "cell_type": "markdown",
   "metadata": {},
   "source": [
    "1.1 DNS over HTTPS Implementation:"
   ]
  },
  {
   "cell_type": "code",
   "execution_count": 12,
   "metadata": {},
   "outputs": [
    {
     "name": "stdout",
     "output_type": "stream",
     "text": [
      "example.com has A record 93.184.215.14\n"
     ]
    }
   ],
   "source": [
    "import requests\n",
    "\n",
    "def query_doh(domain):\n",
    "    doh_url = \"https://cloudflare-dns.com/dns-query\"\n",
    "    headers = {\"Accept\": \"application/dns-json\"}\n",
    "    params = {\"name\": domain, \"type\": \"A\"}\n",
    "\n",
    "    try:\n",
    "        response = requests.get(doh_url, headers=headers, params=params)\n",
    "        response.raise_for_status()\n",
    "        answer = response.json()\n",
    "        if \"Answer\" in answer:\n",
    "            return answer[\"Answer\"]\n",
    "        else:\n",
    "            print(\"No 'Answer' field in the response.\")\n",
    "            return None\n",
    "    except requests.exceptions.RequestException as e:\n",
    "        print(f\"An error occurred: {e}\")\n",
    "        return None\n",
    "\n",
    "domain = \"example.com\"\n",
    "result = query_doh(domain)\n",
    "if result:\n",
    "    for record in result:\n",
    "        print(f\"{record['name']} has A record {record['data']}\")\n",
    "else:\n",
    "    print(\"No A record found.\")\n"
   ]
  },
  {
   "cell_type": "markdown",
   "metadata": {},
   "source": [
    "1.2 DNS over TLS Implementation:"
   ]
  },
  {
   "cell_type": "markdown",
   "metadata": {},
   "source": [
    "Cant get it to run:\n",
    "https://github.com/melvilgit/DNS-OVER-TLS/blob/master/test.py\n",
    "https://community.cloudflare.com/t/python-ssl-for-connecting-with-cloudflare-1-1-1-1-853/33561"
   ]
  },
  {
   "cell_type": "code",
   "execution_count": 13,
   "metadata": {},
   "outputs": [
    {
     "data": {
      "text/plain": [
       "'A\\nresponse = DNSRecord.parse(response_bytes)\\nanswers = response.rr\\nif answers:\\n    for rr in answers:\\n        if rr.rtype == A:\\n            print(f\"{domain} -> {rr.rdata}\")\\nelse:\\n    print(f\"No answers found for {domain}\")\\n'"
      ]
     },
     "execution_count": 13,
     "metadata": {},
     "output_type": "execute_result"
    }
   ],
   "source": [
    "# Todo does not work :c BufferError \n",
    "\n",
    "import socket\n",
    "import ssl\n",
    "from dnslib import DNSRecord, A\n",
    "\n",
    "SERVER_HOST = '1.1.1.1'\n",
    "SERVER_PORT = 853\n",
    "\n",
    "domain = 'example.com'\n",
    "query = DNSRecord.question(domain, 'A')\n",
    "query_bytes = query.pack()\n",
    "message_length = len(query_bytes).to_bytes(2, byteorder='big')\n",
    "query_with_length = message_length + query_bytes\n",
    "context = ssl.create_default_context()\n",
    "\n",
    "with socket.create_connection((SERVER_HOST, SERVER_PORT)) as sock:\n",
    "    with context.wrap_socket(sock, server_hostname=SERVER_HOST) as ssock:\n",
    "        ssock.send(query_with_length)\n",
    "        response_bytes = b''\n",
    "        while True:\n",
    "            chunk = ssock.recv(4096)\n",
    "            if not chunk:\n",
    "                break\n",
    "            response_bytes += chunk\n",
    "\n",
    "'''A\n",
    "response = DNSRecord.parse(response_bytes)\n",
    "answers = response.rr\n",
    "if answers:\n",
    "    for rr in answers:\n",
    "        if rr.rtype == A:\n",
    "            print(f\"{domain} -> {rr.rdata}\")\n",
    "else:\n",
    "    print(f\"No answers found for {domain}\")\n",
    "'''"
   ]
  },
  {
   "cell_type": "markdown",
   "metadata": {},
   "source": [
    "2. What are the drawbacks of DoH and DoT, and how could these drawbacks be addressed?"
   ]
  },
  {
   "cell_type": "markdown",
   "metadata": {},
   "source": [
    "DoH and DoT could face firewall blocking. Additionally, encrypting DNS queries and responses can lead to higher latency. Moreover, adopting DoH might route traffic through a few major providers, potentially restricting DNS options.\n",
    "\n",
    "To address these concerns, establishing standards and integrating DoH and DoT into current networks could provide solutions. Furthermore, encouraging diverse companies to offer DoH and DoT services would help prevent DNS centralization."
   ]
  }
 ],
 "metadata": {
  "kernelspec": {
   "display_name": "Python 3",
   "language": "python",
   "name": "python3"
  },
  "language_info": {
   "codemirror_mode": {
    "name": "ipython",
    "version": 3
   },
   "file_extension": ".py",
   "mimetype": "text/x-python",
   "name": "python",
   "nbconvert_exporter": "python",
   "pygments_lexer": "ipython3",
   "version": "3.12.3"
  }
 },
 "nbformat": 4,
 "nbformat_minor": 2
}
